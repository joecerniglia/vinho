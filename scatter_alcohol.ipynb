{
 "cells": [
  {
   "cell_type": "code",
   "execution_count": 1,
   "id": "eee29ac2",
   "metadata": {},
   "outputs": [
    {
     "name": "stdout",
     "output_type": "stream",
     "text": [
      "Enter a vinho verde variety: red(R) or white(W)s\n",
      "Please enter one of two varietals: red(R) or white(W)s\n",
      "s\n",
      "Exiting function.\n"
     ]
    }
   ],
   "source": [
    "filename=input('Enter a vinho verde variety: red(R) or white(W)')\n",
    "\n",
    "from pandas import read_csv\n",
    "from matplotlib import pyplot\n",
    "import matplotlib\n",
    "from sklearn.model_selection import train_test_split\n",
    "from collections import Counter\n",
    "from numpy import where\n",
    "\n",
    "# Load dataset\n",
    "if filename == 'R':\n",
    "    filename = 'winequality-red.csv'\n",
    "elif filename == 'W':\n",
    "    filename = 'winequality-white.csv'\n",
    "else:\n",
    "    filename=input('Please enter one of two varietals: red(R) or white(W)')\n",
    "\n",
    "try:\n",
    "    print(filename)\n",
    "    \n",
    "    names = ['FIXACID', 'VOLACID', 'CITACID', 'RESSUGAR', 'CHLORIDES', 'FSULFDIOX',\n",
    "    'TOTSULFDIOX', 'DENSITY', 'PH', 'SULPHATES','ALCOHOL','QUALITY']\n",
    "    dataset = read_csv(filename, header=0, sep=';',names=names, na_values='.')\n",
    "\n",
    "    matplotlib.rcParams[\"axes.linewidth\"] = 1 #formerly 3\n",
    "    matplotlib.rcParams[\"lines.linewidth\"] = 1 #formerly 3\n",
    "    matplotlib.rcParams['figure.figsize'] = [7, 5]\n",
    "    matplotlib.rcParams['figure.dpi'] = 400 \n",
    "\n",
    "    # Split-out validation dataset\n",
    "    array = dataset.values\n",
    "    X = array[:,0:11]\n",
    "    Y = array[:,11]\n",
    "    validation_size = 0.20\n",
    "    seed = 7\n",
    "\n",
    "    X_train, X_validation, Y_train, Y_validation = train_test_split(X, Y,\n",
    "        test_size=validation_size, random_state=seed, stratify=Y)\n",
    "    counter=Counter(Y_train)\n",
    "    print('Before SMOTE:',counter)\n",
    "    # scatter plot of examples by class label\n",
    "\n",
    "    #print(X_train[:6,:])\n",
    "    # scatter plot of examples by class label: pH (8) x Alcohol (10)\n",
    "    # Both pH and Alcohol are correlated with Quality\n",
    "    for label, _ in counter.items():\n",
    "        #row_ix returns an array containing all the row numbers for a given label (color)\n",
    "        row_ix = where(Y_train == label)[0]\n",
    "        #print(\"row_ix\", row_ix)\n",
    "        pyplot.scatter(X_train[row_ix, 8], X_train[row_ix, 10], label=str(label))\n",
    "    pyplot.legend()\n",
    "    pyplot.show()\n",
    "except:\n",
    "    print('Exiting function.')"
   ]
  },
  {
   "cell_type": "code",
   "execution_count": null,
   "id": "227b7f3f",
   "metadata": {},
   "outputs": [],
   "source": []
  }
 ],
 "metadata": {
  "kernelspec": {
   "display_name": "Python 3",
   "language": "python",
   "name": "python3"
  },
  "language_info": {
   "codemirror_mode": {
    "name": "ipython",
    "version": 3
   },
   "file_extension": ".py",
   "mimetype": "text/x-python",
   "name": "python",
   "nbconvert_exporter": "python",
   "pygments_lexer": "ipython3",
   "version": "3.8.8"
  }
 },
 "nbformat": 4,
 "nbformat_minor": 5
}
